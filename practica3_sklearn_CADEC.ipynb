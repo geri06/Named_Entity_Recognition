{
 "cells": [
  {
   "cell_type": "code",
   "execution_count": 1,
   "metadata": {},
   "outputs": [
    {
     "name": "stderr",
     "output_type": "stream",
     "text": [
      "[nltk_data] Downloading package averaged_perceptron_tagger to\n",
      "[nltk_data]     C:\\Users\\gerar\\AppData\\Roaming\\nltk_data...\n",
      "[nltk_data]   Package averaged_perceptron_tagger is already up-to-\n",
      "[nltk_data]       date!\n"
     ]
    }
   ],
   "source": [
    "import nltk\n",
    "import numpy as np\n",
    "from string import punctuation\n",
    "import spacy\n",
    "#!python -m spacy download nl_core_news_sm\n",
    "nlp = spacy.load('en_core_web_sm')\n",
    "from nltk.stem import SnowballStemmer\n",
    "nltk.download('averaged_perceptron_tagger')\n",
    "stemmer_nl = SnowballStemmer('english')\n",
    "from spacy import displacy\n",
    "from spacy.tokens import Doc, Span\n",
    "from nltk.tokenize import sent_tokenize, word_tokenize\n",
    "import re"
   ]
  },
  {
   "attachments": {},
   "cell_type": "markdown",
   "metadata": {},
   "source": [
    "#### Carreguem CADEC, treiem identificadors i posem dades amb froma adecuada per al model"
   ]
  },
  {
   "cell_type": "code",
   "execution_count": 2,
   "metadata": {},
   "outputs": [
    {
     "name": "stdout",
     "output_type": "stream",
     "text": [
      "768\n",
      "299\n",
      "150\n"
     ]
    }
   ],
   "source": [
    "def read_data(file_txt): # Llegeix les dades i les posa en format (word,BIO-label)\n",
    "    file = open(file_txt,'r')\n",
    "    lines = file.readlines()\n",
    "    dict = {1: 'ADR', 2:'Di', 3:'Dr', 4:'S', 5:'F'}\n",
    "    output = []\n",
    "    doc = []\n",
    "    for line in lines[1:]:\n",
    "        line = line.split()\n",
    "        if len(line) > 0 and line[0] == 'end_doc':\n",
    "            output.append(doc)\n",
    "        elif len(line) > 0 and re.match(r'[A-Z]+\\.\\d+', line[0]):\n",
    "            output.append(doc)\n",
    "            doc = []\n",
    "        elif len(line) > 0:\n",
    "            for i in range(1,len(line)):\n",
    "                if line[i] !='O':\n",
    "                    label = line[i][0:2] + dict[i]\n",
    "                    break\n",
    "                else:\n",
    "                    label = 'O'\n",
    "                    \n",
    "            tuple = (line[0],label)\n",
    "            doc.append(tuple)\n",
    "    return output\n",
    "\n",
    "train_val = read_data('train.conll')\n",
    "val = train_val[0:150]\n",
    "train = train_val[150:]\n",
    "test = read_data('test.conll')\n",
    "print(len(train))\n",
    "print(len(test))\n",
    "print(len(val))"
   ]
  },
  {
   "attachments": {},
   "cell_type": "markdown",
   "metadata": {},
   "source": [
    "### Feature functions"
   ]
  },
  {
   "attachments": {},
   "cell_type": "markdown",
   "metadata": {},
   "source": [
    "#### Creem funcions per afegir lemmas i postags a l'input del CRF"
   ]
  },
  {
   "cell_type": "code",
   "execution_count": 3,
   "metadata": {},
   "outputs": [],
   "source": [
    "def add_lemmas_and_postag(train, val, test):\n",
    "    lemmas_train = process_sentences(train)\n",
    "    lemmas_val = process_sentences(val)\n",
    "    lemmas_test = process_sentences(test)\n",
    "    return lemmas_train, lemmas_val, lemmas_test\n",
    "\n",
    "def process_sentences(sentences):\n",
    "    lemmas_postags = []\n",
    "    for sent in sentences:\n",
    "        lemas_postag_sent = []\n",
    "        sentence = ' '.join([i for i, _ in sent])\n",
    "        doc = nlp(sentence)\n",
    "        for i in doc:\n",
    "            lemma = i.lemma_\n",
    "            postag = i.pos_\n",
    "            lemas_postag_sent.append((lemma,postag))\n",
    "        lemmas_postags.append(lemas_postag_sent)\n",
    "    return lemmas_postags\n",
    "    \n",
    "\n",
    "lemmas_postags_train,lemmas_postags_val,lemmas_postags_test = add_lemmas_and_postag(train,val,test)"
   ]
  },
  {
   "cell_type": "code",
   "execution_count": 4,
   "metadata": {},
   "outputs": [
    {
     "name": "stdout",
     "output_type": "stream",
     "text": [
      "[[('Not', 'not', 'PART', 'O'), ('sure', 'sure', 'ADJ', 'O'), ('--', '--', 'PUNCT', 'O'), ('I', 'I', 'PRON', 'O'), (\"'\", \"'\", 'AUX', 'O'), ('m', 'm', 'AUX', 'O'), ('taking', 'take', 'VERB', 'O'), ('several', 'several', 'ADJ', 'O'), ('medications', 'medication', 'NOUN', 'O'), ('so', 'so', 'ADV', 'O'), ('I', 'I', 'PRON', 'O'), ('don', 'don', 'VERB', 'O'), (\"'\", \"'\", 'PUNCT', 'O'), ('t', 't', 'NOUN', 'O'), ('know', 'know', 'VERB', 'O'), ('if', 'if', 'SCONJ', 'O'), ('the', 'the', 'DET', 'O'), ('others', 'other', 'NOUN', 'O'), ('may', 'may', 'AUX', 'O'), ('cause', 'cause', 'VERB', 'O'), ('some', 'some', 'DET', 'O'), ('minor', 'minor', 'ADJ', 'O'), ('side', 'side', 'NOUN', 'O'), ('effects', 'effect', 'NOUN', 'O'), ('.', '.', 'PUNCT', 'O'), ('10', '10', 'NUM', 'O'), ('mg', 'mg', 'ADP', 'O'), ('dosage', 'dosage', 'NOUN', 'O'), ('lowered', 'lower', 'VERB', 'O'), ('cholesterol', 'cholesterol', 'NOUN', 'O'), ('from', 'from', 'ADP', 'O'), ('170', '170', 'NUM', 'O'), ('to', 'to', 'ADP', 'O'), ('31', '31', 'NUM', 'O'), ('from', 'from', 'ADP', 'O'), ('July', 'July', 'PROPN', 'O'), ('to', 'to', 'ADP', 'O'), ('Nov', 'Nov', 'PROPN', 'O'), ('06', '06', 'NUM', 'O'), ('!', '!', 'PUNCT', 'O'), ('I', 'I', 'PRON', 'O'), ('did', 'do', 'AUX', 'O'), ('change', 'change', 'VERB', 'O'), ('my', 'my', 'PRON', 'O'), ('diet', 'diet', 'NOUN', 'O'), ('also', 'also', 'ADV', 'O'), ('from', 'from', 'ADP', 'O'), ('almost', 'almost', 'ADV', 'O'), ('no', 'no', 'PRON', 'O'), ('beef', 'beef', 'NOUN', 'O'), ('to', 'to', 'ADP', 'O'), ('almost', 'almost', 'ADV', 'O'), ('entirely', 'entirely', 'ADV', 'O'), ('chicken', 'chicken', 'VERB', 'O'), ('and', 'and', 'CCONJ', 'O'), ('avoided', 'avoid', 'VERB', 'O'), ('butters', 'butter', 'NOUN', 'O'), ('/', '/', 'SYM', 'O'), ('margerines', 'margerine', 'NOUN', 'O'), ('.', '.', 'PUNCT', 'O'), ('I', 'I', 'PRON', 'O'), ('am', 'be', 'AUX', 'O'), ('now', 'now', 'ADV', 'O'), ('on', 'on', 'ADP', 'O'), ('5mg', '5', 'NUM', 'O'), ('dosage', 'mg', 'ADP', 'O'), ('and', 'dosage', 'NOUN', 'O'), ('niaspan', 'and', 'CCONJ', 'B-Dr'), ('to', 'niaspan', 'PROPN', 'O'), ('raise', 'to', 'PART', 'O'), ('HDL', 'raise', 'VERB', 'O'), ('.', 'HDL', 'PROPN', 'O'), ('VOLTAREN-XR.5', '.', 'PUNCT', 'O'), ('Always', 'VOLTAREN', 'PROPN', 'O'), ('tired', '-', 'PUNCT', 'B-ADR'), (',', 'XR.5', 'PROPN', 'O'), ('and', 'always', 'ADV', 'O'), ('possible', 'tired', 'ADJ', 'O'), ('blood', ',', 'PUNCT', 'B-ADR'), ('clots', 'and', 'CCONJ', 'I-ADR'), ('.', 'possible', 'ADJ', 'O'), ('I', 'blood', 'NOUN', 'O'), ('was', 'clot', 'NOUN', 'O'), ('on', '.', 'PUNCT', 'O'), ('Voltaren', 'I', 'PRON', 'B-Dr'), ('for', 'be', 'AUX', 'O'), ('about', 'on', 'ADP', 'O'), ('4', 'Voltaren', 'PROPN', 'O'), ('years', 'for', 'ADP', 'O'), ('and', 'about', 'ADV', 'O'), ('all', '4', 'NUM', 'O'), ('of', 'year', 'NOUN', 'O'), ('the', 'and', 'CCONJ', 'O'), ('sudden', 'all', 'PRON', 'O'), ('had', 'of', 'ADP', 'O'), ('a', 'the', 'DET', 'O'), ('minor', 'sudden', 'ADJ', 'O'), ('stroke', 'have', 'VERB', 'B-ADR'), ('and', 'a', 'DET', 'O'), ('had', 'minor', 'ADJ', 'O'), ('blood', 'stroke', 'NOUN', 'B-ADR'), ('clots', 'and', 'CCONJ', 'I-ADR'), ('that', 'have', 'VERB', 'I-ADR'), ('traveled', 'blood', 'NOUN', 'I-ADR'), ('to', 'clot', 'NOUN', 'I-ADR'), ('my', 'that', 'PRON', 'I-ADR'), ('eye', 'travel', 'VERB', 'I-ADR'), ('.', 'to', 'ADP', 'O'), ('I', 'my', 'PRON', 'O'), ('had', 'eye', 'NOUN', 'O'), ('every', '.', 'PUNCT', 'O'), ('test', 'I', 'PRON', 'O'), ('in', 'have', 'VERB', 'O'), ('the', 'every', 'DET', 'O'), ('book', 'test', 'NOUN', 'O'), ('done', 'in', 'ADP', 'O'), ('at', 'the', 'DET', 'O'), ('the', 'book', 'NOUN', 'O'), ('hospital', 'do', 'VERB', 'O'), (',', 'at', 'ADP', 'O'), ('and', 'the', 'DET', 'O'), ('they', 'hospital', 'NOUN', 'O'), ('couldnt', ',', 'PUNCT', 'O'), ('find', 'and', 'CCONJ', 'O'), ('anything', 'they', 'PRON', 'O'), ('.', 'could', 'AUX', 'O'), ('I', 'not', 'PART', 'O'), ('was', 'find', 'VERB', 'O'), ('completley', 'anything', 'PRON', 'O'), ('healthy', '.', 'PUNCT', 'O'), ('!', 'I', 'PRON', 'O'), ('I', 'be', 'AUX', 'O'), ('am', 'completley', 'NOUN', 'O'), ('thinking', 'healthy', 'ADJ', 'O'), ('it', '!', 'PUNCT', 'O'), ('was', 'I', 'PRON', 'O'), ('from', 'be', 'AUX', 'O'), ('the', 'think', 'VERB', 'O'), ('voltaren', 'it', 'PRON', 'B-Dr'), ('.', 'be', 'AUX', 'O'), ('I', 'from', 'ADP', 'O'), ('have', 'the', 'DET', 'O'), ('been', 'voltaren', 'NOUN', 'O'), ('off', '.', 'PUNCT', 'O'), ('of', 'I', 'PRON', 'O'), ('the', 'have', 'AUX', 'O'), ('drug', 'be', 'AUX', 'O'), ('for', 'off', 'ADP', 'O'), ('8', 'of', 'ADP', 'O'), ('months', 'the', 'DET', 'O'), ('now', 'drug', 'NOUN', 'O'), (',', 'for', 'ADP', 'O'), ('and', '8', 'NUM', 'O'), ('have', 'month', 'NOUN', 'O'), ('never', 'now', 'ADV', 'O'), ('felt', ',', 'PUNCT', 'O'), ('better', 'and', 'CCONJ', 'O'), ('.', 'have', 'AUX', 'O'), ('I', 'never', 'ADV', 'O'), ('started', 'feel', 'VERB', 'O'), ('eating', 'well', 'ADJ', 'O'), ('healthy', '.', 'PUNCT', 'O'), ('and', 'I', 'PRON', 'O'), ('working', 'start', 'VERB', 'O'), ('out', 'eat', 'VERB', 'O'), ('and', 'healthy', 'ADJ', 'O'), ('that', 'and', 'CCONJ', 'O'), ('has', 'work', 'VERB', 'O'), ('help', 'out', 'ADP', 'O'), ('alot', 'and', 'CCONJ', 'O'), ('.', 'that', 'PRON', 'O'), ('I', 'have', 'AUX', 'O'), ('can', 'help', 'NOUN', 'O'), ('now', 'alot', 'NOUN', 'O'), ('sleep', '.', 'PUNCT', 'O'), ('all', 'I', 'PRON', 'O'), ('thru', 'can', 'AUX', 'O'), ('the', 'now', 'ADV', 'O'), ('night', 'sleep', 'VERB', 'O'), ('.', 'all', 'PRON', 'O'), ('I', 'thru', 'ADP', 'O'), ('wont', 'the', 'DET', 'O'), ('take', 'night', 'NOUN', 'O'), ('this', '.', 'PUNCT', 'O'), ('again', 'I', 'PRON', 'O'), ('.', 'will', 'AUX', 'O'), ('If', 'not', 'PART', 'O'), ('I', 'take', 'VERB', 'O'), ('have', 'this', 'PRON', 'O'), ('the', 'again', 'ADV', 'O'), ('back', '.', 'PUNCT', 'B-S'), ('pain', 'if', 'SCONJ', 'I-S'), (',', 'I', 'PRON', 'O'), ('I', 'have', 'VERB', 'O'), ('will', 'the', 'DET', 'O'), ('pop', 'back', 'ADJ', 'O'), ('a', 'pain', 'NOUN', 'O'), ('tylonol', ',', 'PUNCT', 'B-Dr'), ('instead', 'I', 'PRON', 'O'), ('.', 'will', 'AUX', 'O')], [('No', 'no', 'DET', 'O'), ('problems', 'problem', 'NOUN', 'O'), ('with', 'with', 'ADP', 'O'), ('this', 'this', 'DET', 'O'), ('drug', 'drug', 'NOUN', 'O'), ('.', '.', 'PUNCT', 'O')], [('I', 'I', 'PRON', 'O'), ('have', 'have', 'AUX', 'O'), ('had', 'have', 'VERB', 'O'), ('muscle', 'muscle', 'NOUN', 'B-ADR'), ('/', '/', 'SYM', 'O'), ('joint', 'joint', 'ADJ', 'B-ADR'), ('pain', 'pain', 'NOUN', 'I-ADR'), (',', ',', 'PUNCT', 'O'), ('mainly', 'mainly', 'ADV', 'O'), ('in', 'in', 'ADP', 'O'), ('my', 'my', 'PRON', 'O'), ('arms', 'arm', 'NOUN', 'B-ADR'), ('which', 'which', 'PRON', 'O'), ('is', 'be', 'AUX', 'O'), ('very', 'very', 'ADV', 'O'), ('painful', 'painful', 'ADJ', 'I-ADR'), ('when', 'when', 'SCONJ', 'O'), ('I', 'I', 'PRON', 'O'), ('position', 'position', 'VERB', 'O'), ('them', 'they', 'PRON', 'O'), ('in', 'in', 'ADP', 'O'), ('certain', 'certain', 'ADJ', 'O'), ('ways', 'way', 'NOUN', 'O'), (';', ';', 'PUNCT', 'O'), ('otherwise', 'otherwise', 'ADV', 'O'), ('I', 'I', 'PRON', 'O'), ('am', 'be', 'AUX', 'O'), ('just', 'just', 'ADV', 'O'), ('.', '.', 'PUNCT', 'O'), ('This', 'this', 'PRON', 'O'), ('works', 'work', 'VERB', 'O'), ('for', 'for', 'ADP', 'O'), ('lowering', 'lower', 'VERB', 'O'), ('Cholesterol', 'Cholesterol', 'PROPN', 'O'), (',', ',', 'PUNCT', 'O'), ('but', 'but', 'CCONJ', 'O'), ('not', 'not', 'PART', 'O'), ('so', 'so', 'ADV', 'O'), ('sure', 'sure', 'ADJ', 'O'), ('about', 'about', 'ADP', 'O'), ('the', 'the', 'DET', 'O'), ('big', 'big', 'ADJ', 'O'), ('picture', 'picture', 'NOUN', 'O'), ('.', '.', 'PUNCT', 'O'), ('I', 'I', 'PRON', 'O'), ('hesitated', 'hesitate', 'VERB', 'O'), ('going', 'go', 'VERB', 'O'), ('on', 'on', 'ADP', 'O'), ('it', 'it', 'PRON', 'O'), ('and', 'and', 'CCONJ', 'O'), ('now', 'now', 'ADV', 'O'), ('believe', 'believe', 'VERB', 'O'), ('my', 'my', 'PRON', 'O'), ('original', 'original', 'ADJ', 'O'), ('impression', 'impression', 'NOUN', 'O'), ('was', 'be', 'AUX', 'O'), ('probably', 'probably', 'ADV', 'O'), ('correct', 'correct', 'ADJ', 'O'), ('.', '.', 'PUNCT', 'O'), ('I', 'I', 'PRON', 'O'), ('am', 'be', 'AUX', 'O'), ('going', 'go', 'VERB', 'O'), ('to', 'to', 'PART', 'O'), ('try', 'try', 'VERB', 'O'), ('something', 'something', 'PRON', 'O'), ('natural', 'natural', 'ADJ', 'O'), ('instead', 'instead', 'ADV', 'O'), ('.', '.', 'PUNCT', 'O'), ('The', 'the', 'DET', 'O'), ('pain', 'pain', 'NOUN', 'B-ADR'), ('isn', 'isn', 'X', 'O'), (\"'\", \"'\", 'PUNCT', 'O'), ('t', 't', 'PROPN', 'O'), ('worth', 'worth', 'ADJ', 'O'), ('it', 'it', 'PRON', 'O'), ('.', '.', 'PUNCT', 'O')]]\n",
      "[[('pain', 'pain', 'NOUN', 'B-ADR'), ('in', 'in', 'ADP', 'I-ADR'), ('my', 'my', 'PRON', 'I-ADR'), ('left', 'left', 'ADJ', 'I-ADR'), ('leg', 'leg', 'NOUN', 'I-ADR'), ('and', 'and', 'CCONJ', 'O'), ('most', 'most', 'ADJ', 'O'), ('of', 'of', 'ADP', 'O'), ('my', 'my', 'PRON', 'O'), ('joints', 'joint', 'NOUN', 'I-ADR'), ('.', '.', 'PUNCT', 'O')], [('Elevated', 'Elevated', 'PROPN', 'B-ADR'), ('CPK', 'CPK', 'PROPN', 'I-ADR'), ('levels', 'level', 'NOUN', 'I-ADR'), (',', ',', 'PUNCT', 'O'), ('muscle', 'muscle', 'NOUN', 'B-ADR'), ('problems', 'problem', 'NOUN', 'I-ADR'), (',', ',', 'PUNCT', 'O'), ('felt', 'feel', 'VERB', 'O'), ('bad', 'bad', 'ADJ', 'O'), ('.', '.', 'PUNCT', 'O'), ('I', 'I', 'PRON', 'O'), ('landed', 'land', 'VERB', 'O'), ('up', 'up', 'ADP', 'O'), ('having', 'have', 'VERB', 'O'), ('to', 'to', 'PART', 'O'), ('have', 'have', 'VERB', 'O'), ('a', 'a', 'DET', 'O'), ('muscle', 'muscle', 'NOUN', 'O'), ('biopsy', 'biopsy', 'NOUN', 'O'), ('to', 'to', 'ADP', 'O'), ('the', 'the', 'DET', 'O'), ('right', 'right', 'ADJ', 'O'), ('leg', 'leg', 'NOUN', 'O'), ('which', 'which', 'PRON', 'O'), ('showed', 'show', 'VERB', 'O'), ('no', 'no', 'DET', 'O'), ('muscle', 'muscle', 'NOUN', 'O'), ('damage', 'damage', 'NOUN', 'O'), (',', ',', 'PUNCT', 'O'), ('but', 'but', 'CCONJ', 'O'), ('elevated', 'elevated', 'ADJ', 'B-ADR'), ('CPK', 'CPK', 'PROPN', 'I-ADR'), ('levels', 'level', 'NOUN', 'I-ADR'), ('still', 'still', 'ADV', 'O'), ('were', 'be', 'AUX', 'O'), ('present', 'present', 'ADJ', 'O'), ('.', '.', 'PUNCT', 'O'), ('After', 'after', 'ADP', 'O'), ('stopping', 'stop', 'VERB', 'O'), ('this', 'this', 'DET', 'O'), ('drug', 'drug', 'NOUN', 'O'), (',', ',', 'PUNCT', 'O'), ('the', 'the', 'DET', 'O'), ('levels', 'level', 'NOUN', 'O'), ('returned', 'return', 'VERB', 'O'), ('to', 'to', 'ADP', 'O'), ('normal', 'normal', 'ADJ', 'O'), ('after', 'after', 'ADP', 'O'), ('3', '3', 'NUM', 'O'), ('months', 'month', 'NOUN', 'O'), ('.', '.', 'PUNCT', 'O')], [('Taking', 'take', 'VERB', 'O'), ('10', '10', 'NUM', 'O'), ('mg', 'mg', 'NOUN', 'O'), ('.', '.', 'PUNCT', 'O'), ('of', 'of', 'ADP', 'O'), ('Lipitor', 'Lipitor', 'PROPN', 'B-Dr'), ('.', '.', 'PUNCT', 'O'), ('Was', 'be', 'AUX', 'O'), ('getting', 'get', 'VERB', 'O'), ('some', 'some', 'DET', 'O'), ('muscle', 'muscle', 'NOUN', 'B-ADR'), ('aches', 'ache', 'VERB', 'I-ADR'), ('.', '.', 'PUNCT', 'O'), ('A', 'a', 'DET', 'O'), ('few', 'few', 'ADJ', 'O'), ('weeks', 'week', 'NOUN', 'O'), ('ago', 'ago', 'ADV', 'O'), (',', ',', 'PUNCT', 'O'), ('got', 'get', 'VERB', 'O'), ('severe', 'severe', 'ADJ', 'B-ADR'), ('intense', 'intense', 'ADJ', 'I-ADR'), ('left', 'left', 'ADJ', 'I-ADR'), ('arm', 'arm', 'NOUN', 'I-ADR'), ('and', 'and', 'CCONJ', 'I-ADR'), ('shoulder', 'shoulder', 'NOUN', 'I-ADR'), ('pain', 'pain', 'NOUN', 'I-ADR'), ('.', '.', 'PUNCT', 'O'), ('My', 'my', 'PRON', 'O'), ('MD', 'MD', 'PROPN', 'O'), ('(', '(', 'PUNCT', 'O'), ('who', 'who', 'PRON', 'O'), ('did', 'do', 'AUX', 'O'), ('not', 'not', 'PART', 'O'), ('want', 'want', 'VERB', 'O'), ('me', 'I', 'PRON', 'O'), ('to', 'to', 'PART', 'O'), ('take', 'take', 'VERB', 'O'), ('it', 'it', 'PRON', 'O'), (')', ')', 'PUNCT', 'O'), ('diagnosed', 'diagnose', 'VERB', 'O'), ('a', 'a', 'DET', 'O'), ('rotator', 'rotator', 'NOUN', 'B-Di'), ('cuff', 'cuff', 'PROPN', 'I-Di'), ('injury', 'injury', 'PROPN', 'I-Di'), ('(', '(', 'PUNCT', 'O'), ('liver', 'liver', 'NOUN', 'O'), ('test', 'test', 'NOUN', 'O'), ('came', 'come', 'VERB', 'O'), ('back', 'back', 'ADV', 'O'), ('normal', 'normal', 'ADJ', 'O'), (').', ')', 'PUNCT', 'O'), ('X', '.', 'PUNCT', 'O'), ('-', 'X', 'NOUN', 'O'), ('rays', '-', 'PUNCT', 'O'), ('did', 'ray', 'NOUN', 'O'), ('not', 'do', 'AUX', 'O'), ('show', 'not', 'PART', 'O'), ('a', 'show', 'VERB', 'O'), ('fracture', 'a', 'DET', 'O'), ('&', 'fracture', 'NOUN', 'O'), ('MRI', '&', 'CCONJ', 'O'), ('did', 'MRI', 'PROPN', 'O'), ('not', 'do', 'AUX', 'O'), ('show', 'not', 'PART', 'O'), ('a', 'show', 'VERB', 'O'), ('tear', 'a', 'DET', 'O'), ('.', 'tear', 'NOUN', 'O'), ('In', '.', 'PUNCT', 'O'), ('the', 'in', 'ADP', 'O'), ('past', 'the', 'DET', 'O'), ('2', 'past', 'ADJ', 'O'), ('weeks', '2', 'NUM', 'O'), ('the', 'week', 'NOUN', 'O'), ('toes', 'the', 'DET', 'O'), ('(', 'toe', 'NOUN', 'O'), ('esp', '(', 'PUNCT', 'O'), ('.', 'esp', 'ADV', 'O'), ('the', '.', 'PUNCT', 'O'), ('big', 'the', 'DET', 'O'), ('toe', 'big', 'ADJ', 'O'), (')', 'toe', 'NOUN', 'O'), ('on', ')', 'PUNCT', 'O'), ('my', 'on', 'ADP', 'O'), ('left', 'my', 'PRON', 'O'), ('foot', 'left', 'ADJ', 'O'), ('have', 'foot', 'NOUN', 'O'), ('started', 'have', 'AUX', 'O'), ('to', 'start', 'VERB', 'O'), ('twitch', 'to', 'PART', 'B-ADR'), ('.', 'twitch', 'VERB', 'O'), ('This', '.', 'PUNCT', 'O'), ('is', 'this', 'PRON', 'O'), ('really', 'be', 'AUX', 'O'), ('scaring', 'really', 'ADV', 'O'), ('me', 'scare', 'VERB', 'O'), ('because', 'I', 'PRON', 'O'), ('my', 'because', 'SCONJ', 'O'), ('father', 'my', 'PRON', 'O'), ('had', 'father', 'NOUN', 'O'), ('Parkinson', 'have', 'VERB', 'B-Di'), (\"'\", 'Parkinson', 'PROPN', 'O'), ('s', \"'\", 'PUNCT', 'O'), ('.', 's', 'NOUN', 'O'), ('Also', '.', 'PUNCT', 'O'), (',', 'also', 'ADV', 'O'), ('in', ',', 'PUNCT', 'O'), ('the', 'in', 'ADP', 'O'), ('last', 'the', 'DET', 'O'), ('couple', 'last', 'ADJ', 'O'), ('of', 'couple', 'NOUN', 'O'), ('days', 'of', 'ADP', 'O'), (',', 'day', 'NOUN', 'O'), ('I', ',', 'PUNCT', 'O'), ('have', 'I', 'PRON', 'O'), ('started', 'have', 'AUX', 'O'), ('to', 'start', 'VERB', 'O'), ('get', 'to', 'PART', 'O'), ('pain', 'get', 'VERB', 'B-ADR'), ('between', 'pain', 'NOUN', 'I-ADR'), ('my', 'between', 'ADP', 'I-ADR'), ('shoulder', 'my', 'PRON', 'I-ADR'), ('blades', 'shoulder', 'NOUN', 'I-ADR'), ('.', 'blade', 'NOUN', 'O'), ('I', '.', 'PUNCT', 'O'), ('have', 'I', 'PRON', 'O'), ('not', 'have', 'AUX', 'O'), ('had', 'not', 'PART', 'O'), ('my', 'have', 'VERB', 'O'), ('cholesterol', 'my', 'PRON', 'O'), ('tested', 'cholesterol', 'NOUN', 'O'), ('since', 'test', 'VERB', 'O'), ('I', 'since', 'SCONJ', 'O'), ('started', 'I', 'PRON', 'O'), ('taking', 'start', 'VERB', 'O'), ('it', 'take', 'VERB', 'O'), (';', 'it', 'PRON', 'O'), ('but', ';', 'PUNCT', 'O'), ('I', 'but', 'CCONJ', 'O'), ('am', 'I', 'PRON', 'O'), ('stopping', 'be', 'AUX', 'O'), ('it', 'stop', 'VERB', 'O'), ('today', 'it', 'PRON', 'O'), ('.', 'today', 'NOUN', 'O'), ('It', '.', 'PUNCT', 'O'), ('seems', 'it', 'PRON', 'O'), ('to', 'seem', 'VERB', 'O'), ('work', 'to', 'PART', 'O'), ('great', 'work', 'VERB', 'O'), ('for', 'great', 'ADJ', 'O'), ('some', 'for', 'ADP', 'O'), ('people', 'some', 'DET', 'O'), ('.', 'people', 'NOUN', 'O'), ('But', '.', 'PUNCT', 'O'), ('everyone', 'but', 'CCONJ', 'O'), ('should', 'everyone', 'PRON', 'O'), ('be', 'should', 'AUX', 'O'), ('very', 'be', 'AUX', 'O'), ('vigilant', 'very', 'ADV', 'O'), ('and', 'vigilant', 'ADJ', 'O'), ('check', 'and', 'CCONJ', 'O'), ('out', 'check', 'VERB', 'O'), ('any', 'out', 'ADP', 'O'), ('changes', 'any', 'DET', 'O'), ('immediately', 'change', 'NOUN', 'O'), ('.', 'immediately', 'ADV', 'O'), ('It', '.', 'PUNCT', 'O'), ('is', 'it', 'PRON', 'O'), ('too', 'be', 'AUX', 'O'), ('easy', 'too', 'ADV', 'O'), ('to', 'easy', 'ADJ', 'O'), ('attribute', 'to', 'PART', 'O'), ('a', 'attribute', 'VERB', 'O'), ('change', 'a', 'DET', 'O'), ('to', 'change', 'NOUN', 'O'), ('a', 'to', 'ADP', 'O'), ('pulled', 'a', 'DET', 'O'), ('muscle', 'pull', 'VERB', 'O'), ('or', 'muscle', 'NOUN', 'O'), ('aging', 'or', 'CCONJ', 'O'), (',', 'aging', 'NOUN', 'O'), ('etc', ',', 'PUNCT', 'O'), ('Thanks', 'etc', 'X', 'O'), ('for', 'thank', 'NOUN', 'O'), ('this', 'for', 'ADP', 'O'), ('website', 'this', 'DET', 'O'), ('.', 'website', 'NOUN', 'O')]]\n",
      "[[('Dry', 'dry', 'ADJ', 'B-ADR'), ('mouth', 'mouth', 'NOUN', 'I-ADR'), ('.', '.', 'PUNCT', 'O'), ('Go', 'go', 'VERB', 'O'), ('buy', 'buy', 'VERB', 'O'), ('candy', 'candy', 'NOUN', 'O'), ('.', '.', 'PUNCT', 'O'), ('It', 'it', 'PRON', 'O'), (\"'\", \"'\", 'PUNCT', 'O'), ('s', 's', 'VERB', 'O'), ('cheaper', 'cheap', 'ADJ', 'O'), ('and', 'and', 'CCONJ', 'O'), ('have', 'have', 'VERB', 'O'), ('the', 'the', 'DET', 'O'), ('same', 'same', 'ADJ', 'O'), ('effect', 'effect', 'NOUN', 'O'), ('on', 'on', 'ADP', 'O'), ('pain', 'pain', 'NOUN', 'B-S'), ('.', '.', 'PUNCT', 'O'), ('I', 'I', 'PRON', 'O'), ('take', 'take', 'VERB', 'O'), ('it', 'it', 'PRON', 'O'), ('with', 'with', 'ADP', 'O'), ('2', '2', 'NUM', 'O'), ('propain', 'propain', 'NOUN', 'B-Dr'), ('(', '(', 'PUNCT', 'O'), ('40', '40', 'NUM', 'O'), ('mg', 'mg', 'NOUN', 'O'), ('each', 'each', 'PRON', 'O'), (')', ')', 'PUNCT', 'O'), ('at', 'at', 'ADP', 'O'), ('a', 'a', 'DET', 'O'), ('time', 'time', 'NOUN', 'O'), (',', ',', 'PUNCT', 'O'), ('or', 'or', 'CCONJ', 'O'), ('2', '2', 'NUM', 'O'), ('mypaid', 'mypaid', 'NOUN', 'B-Dr'), ('forte', 'forte', 'NOUN', 'I-Dr'), ('(', '(', 'PUNCT', 'O'), ('Ibuprofen', 'Ibuprofen', 'PROPN', 'B-Dr'), ('400', '400', 'NUM', 'I-Dr'), ('mg', 'mg', 'ADP', 'I-Dr'), ('Paracetamol', 'Paracetamol', 'PROPN', 'B-Dr'), ('325', '325', 'NUM', 'I-Dr'), ('mg', 'mg', 'ADP', 'I-Dr'), ('each', 'each', 'PRON', 'O'), (')', ')', 'PUNCT', 'O'), ('(', '(', 'PUNCT', 'O'), ('Don', 'Don', 'PROPN', 'O'), (\"'\", \"'\", 'PUNCT', 'O'), ('t', 't', 'NOUN', 'O'), ('do', 'do', 'VERB', 'O'), ('this', 'this', 'PRON', 'O'), ('!!!)', '!', 'PUNCT', 'O'), ('and', '!', 'PUNCT', 'O'), ('it', '!', 'PUNCT', 'O'), ('don', ')', 'PUNCT', 'O'), (\"'\", 'and', 'CCONJ', 'O'), ('t', 'it', 'PRON', 'O'), ('work', 'don', 'PROPN', 'O'), ('for', \"'\", 'PUNCT', 'O'), ('more', 't', 'NOUN', 'O'), ('than', 'work', 'NOUN', 'O'), ('an', 'for', 'ADP', 'O'), ('hour', 'more', 'ADJ', 'O'), ('.', 'than', 'ADP', 'O')], [('Muddled', 'muddle', 'VERB', 'B-ADR'), ('thinking', 'thinking', 'NOUN', 'I-ADR'), (',', ',', 'PUNCT', 'O'), ('loss', 'loss', 'NOUN', 'B-ADR'), ('of', 'of', 'ADP', 'I-ADR'), ('strength', 'strength', 'NOUN', 'I-ADR'), ('and', 'and', 'CCONJ', 'O'), ('stamina', 'stamina', 'NOUN', 'I-ADR'), ('.', '.', 'PUNCT', 'O')], [('Pectoral', 'pectoral', 'ADJ', 'O'), ('chest', 'chest', 'NOUN', 'B-ADR'), ('pain', 'pain', 'NOUN', 'I-ADR'), ('-', '-', 'PUNCT', 'O'), ('stabbing', 'stab', 'VERB', 'B-ADR'), ('sharp', 'sharp', 'ADJ', 'I-ADR'), ('pains', 'pain', 'NOUN', 'I-ADR'), (',', ',', 'PUNCT', 'O'), ('increasing', 'increase', 'VERB', 'O'), ('in', 'in', 'ADP', 'O'), ('frequency', 'frequency', 'NOUN', 'O'), ('as', 'as', 'SCONJ', 'O'), ('time', 'time', 'NOUN', 'O'), ('passed', 'pass', 'VERB', 'O'), ('.', '.', 'PUNCT', 'O'), ('My', 'my', 'PRON', 'O'), ('cholesterol', 'cholesterol', 'NOUN', 'O'), ('was', 'be', 'AUX', 'O'), ('already', 'already', 'ADV', 'O'), ('great', 'great', 'ADJ', 'O'), ('at', 'at', 'ADP', 'O'), ('140', '140', 'NUM', 'O'), ('with', 'with', 'ADP', 'O'), ('triglicerides', 'trigliceride', 'NOUN', 'O'), ('good', 'good', 'ADJ', 'O'), ('too', 'too', 'ADV', 'O'), ('.', '.', 'PUNCT', 'O'), ('Doctor', 'Doctor', 'PROPN', 'O'), ('wanted', 'want', 'VERB', 'O'), ('me', 'I', 'PRON', 'O'), ('to', 'to', 'PART', 'O'), ('start', 'start', 'VERB', 'O'), ('this', 'this', 'DET', 'O'), ('medication', 'medication', 'NOUN', 'O'), (',', ',', 'PUNCT', 'O'), ('5mg', '5', 'NUM', 'O'), ('/', 'mg', 'NUM', 'O'), ('day', '/', 'SYM', 'O'), (',', 'day', 'NOUN', 'O'), ('along', ',', 'PUNCT', 'O'), ('with', 'along', 'ADP', 'O'), ('Mavik', 'with', 'ADP', 'B-Dr'), ('1mg', 'Mavik', 'PROPN', 'I-Dr'), ('for', '1', 'NUM', 'O'), ('blood', 'mg', 'NOUN', 'B-Di'), ('pressure', 'for', 'ADP', 'I-Di'), ('(', 'blood', 'NOUN', 'O'), ('mine', 'pressure', 'NOUN', 'O'), ('was', '(', 'PUNCT', 'O'), ('already', 'mine', 'PRON', 'O'), ('averaging', 'be', 'AUX', 'O'), ('106', 'already', 'ADV', 'O'), ('/', 'average', 'VERB', 'O'), ('70', '106', 'NUM', 'O'), (')', '/', 'SYM', 'O'), ('to', '70', 'NUM', 'O'), ('prevent', ')', 'PUNCT', 'O'), ('arterial', 'to', 'PART', 'O'), ('damage', 'prevent', 'VERB', 'O'), ('due', 'arterial', 'ADJ', 'O'), ('to', 'damage', 'NOUN', 'O'), ('my', 'due', 'ADP', 'O'), ('type', 'to', 'ADP', 'B-Di'), ('2', 'my', 'PRON', 'I-Di'), ('diabetes', 'type', 'NOUN', 'I-Di'), ('.', '2', 'NUM', 'O'), ('My', 'diabetes', 'NOUN', 'O'), ('total', '.', 'PUNCT', 'O'), ('cholesterol', 'my', 'PRON', 'O'), ('was', 'total', 'ADJ', 'O'), ('lowered', 'cholesterol', 'NOUN', 'O'), ('to', 'be', 'AUX', 'O'), ('128', 'lower', 'VERB', 'O'), ('and', 'to', 'ADP', 'O'), ('triglicerides', '128', 'NUM', 'O'), ('to', 'and', 'CCONJ', 'O'), ('56', 'trigliceride', 'VERB', 'O'), ('after', 'to', 'ADP', 'O'), ('a', '56', 'NUM', 'O'), ('year', 'after', 'ADP', 'O'), ('with', 'a', 'DET', 'O'), ('a', 'year', 'NOUN', 'O'), ('2', 'with', 'ADP', 'O'), ('.', 'a', 'DET', 'O'), ('something', '2', 'NUM', 'O'), ('ratio', '.', 'PUNCT', 'O'), ('.', 'something', 'PRON', 'O'), ('Heart', 'ratio', 'NOUN', 'B-Di'), ('disease', '.', 'PUNCT', 'I-Di'), ('runs', 'heart', 'NOUN', 'O'), ('in', 'disease', 'NOUN', 'O'), ('my', 'run', 'VERB', 'O'), ('mother', 'in', 'ADP', 'O'), (\"'\", 'my', 'PRON', 'O'), ('s', 'mother', 'NOUN', 'O'), ('side', \"'\", 'PART', 'O'), ('of', 's', 'ADJ', 'O'), ('the', 'side', 'NOUN', 'O'), ('family', 'of', 'ADP', 'O'), ('and', 'the', 'DET', 'O'), ('bp', 'family', 'NOUN', 'B-Di'), ('problems', 'and', 'CCONJ', 'I-Di'), ('and', 'bp', 'NOUN', 'O'), ('the', 'problem', 'NOUN', 'O'), ('diabetes', 'and', 'CCONJ', 'B-Di'), ('in', 'the', 'DET', 'O'), ('my', 'diabetes', 'NOUN', 'O'), ('dad', 'in', 'ADP', 'O'), (\"'\", 'my', 'PRON', 'O'), ('s', 'dad', 'NOUN', 'O'), ('side', \"'\", 'PART', 'O'), ('.', 's', 'ADJ', 'O'), ('I', 'side', 'NOUN', 'O'), ('have', '.', 'PUNCT', 'O'), ('been', 'I', 'PRON', 'O'), ('on', 'have', 'AUX', 'O'), ('this', 'be', 'AUX', 'O'), ('dose', 'on', 'ADP', 'O'), ('for', 'this', 'DET', 'O'), ('1', 'dose', 'NOUN', 'O'), ('year', 'for', 'ADP', 'O'), ('and', '1', 'NUM', 'O'), ('noticed', 'year', 'NOUN', 'O'), ('pains', 'and', 'CCONJ', 'B-ADR'), ('beginning', 'notice', 'VERB', 'O'), ('after', 'pain', 'NOUN', 'O'), ('several', 'begin', 'VERB', 'O'), ('months', 'after', 'ADP', 'O'), ('and', 'several', 'ADJ', 'O'), ('the', 'month', 'NOUN', 'O'), ('pains', 'and', 'CCONJ', 'B-ADR'), ('are', 'the', 'DET', 'O'), ('getting', 'pain', 'NOUN', 'O'), ('more', 'be', 'AUX', 'O'), ('frequent', 'get', 'VERB', 'O'), ('and', 'more', 'ADV', 'O'), ('noticible', 'frequent', 'ADJ', 'O'), ('.', 'and', 'CCONJ', 'O'), ('I', 'noticible', 'ADJ', 'O'), ('am', '.', 'PUNCT', 'O'), ('off', 'I', 'PRON', 'O'), ('the', 'be', 'AUX', 'O'), ('drug', 'off', 'ADP', 'O'), ('for', 'the', 'DET', 'O'), ('a', 'drug', 'NOUN', 'O'), ('self', 'for', 'ADP', 'O'), ('trial', 'a', 'DET', 'O'), ('period', 'self', 'NOUN', 'O'), ('to', 'trial', 'NOUN', 'O'), ('see', 'period', 'NOUN', 'O'), ('if', 'to', 'PART', 'O'), ('the', 'see', 'VERB', 'O'), ('pains', 'if', 'SCONJ', 'B-ADR'), ('diminish', 'the', 'DET', 'O'), ('.', 'pain', 'NOUN', 'O'), ('I', 'diminish', 'VERB', 'O'), ('am', '.', 'PUNCT', 'O'), ('going', 'I', 'PRON', 'O'), ('to', 'be', 'AUX', 'O'), ('see', 'go', 'VERB', 'O'), ('the', 'to', 'PART', 'O'), ('physician', 'see', 'VERB', 'O'), ('in', 'the', 'DET', 'O'), ('a', 'physician', 'NOUN', 'O'), ('week', 'in', 'ADP', 'O'), ('and', 'a', 'DET', 'O'), ('am', 'week', 'NOUN', 'O'), ('going', 'and', 'CCONJ', 'O'), ('to', 'be', 'AUX', 'O'), ('mention', 'go', 'VERB', 'O'), ('the', 'to', 'PART', 'O'), ('pains', 'mention', 'VERB', 'B-ADR'), ('so', 'the', 'DET', 'O'), ('I', 'pain', 'NOUN', 'O'), ('am', 'so', 'SCONJ', 'O'), ('curious', 'I', 'PRON', 'O'), ('as', 'be', 'AUX', 'O'), ('to', 'curious', 'ADJ', 'O'), ('her', 'as', 'ADP', 'O'), ('opinion', 'to', 'ADP', 'O'), ('.', 'her', 'PRON', 'O'), ('Also', 'opinion', 'NOUN', 'O'), ('a', '.', 'PUNCT', 'O'), ('note', 'also', 'ADV', 'O'), (',', 'a', 'DET', 'O'), ('I', 'note', 'NOUN', 'O'), ('am', ',', 'PUNCT', 'O'), ('still', 'I', 'PRON', 'O'), ('fertile', 'be', 'AUX', 'O'), ('and', 'still', 'ADV', 'O'), ('should', 'fertile', 'ADJ', 'O'), ('not', 'and', 'CCONJ', 'O'), ('be', 'should', 'AUX', 'O'), ('prescribed', 'not', 'PART', 'O'), ('this', 'be', 'AUX', 'O'), ('drug', 'prescribe', 'VERB', 'O'), ('due', 'this', 'DET', 'O'), ('to', 'drug', 'NOUN', 'O'), ('unkown', 'due', 'ADP', 'O'), ('pregnancy', 'to', 'ADP', 'B-F'), ('side', 'unkown', 'ADJ', 'I-F'), ('effects', 'pregnancy', 'NOUN', 'I-F'), ('-', 'side', 'NOUN', 'O'), ('interesting', 'effect', 'NOUN', 'O'), ('that', '-', 'PUNCT', 'O'), ('it', 'interesting', 'ADJ', 'O'), ('was', 'that', 'SCONJ', 'O'), ('prescribed', 'it', 'PRON', 'O'), ('to', 'be', 'AUX', 'O'), ('me', 'prescribe', 'VERB', 'O'), ('anyway', 'to', 'ADP', 'O'), ('.', 'I', 'PRON', 'O'), ('Doctor', 'anyway', 'ADV', 'O'), ('told', '.', 'PUNCT', 'O'), ('me', 'Doctor', 'PROPN', 'O'), ('to', 'tell', 'VERB', 'O'), ('go', 'I', 'PRON', 'O'), ('off', 'to', 'PART', 'O'), ('of', 'go', 'VERB', 'O'), ('it', 'off', 'ADP', 'O'), ('if', 'of', 'ADP', 'O'), ('I', 'it', 'PRON', 'O'), ('wanted', 'if', 'SCONJ', 'O'), ('to', 'I', 'PRON', 'O'), ('get', 'want', 'VERB', 'O'), ('pregnant', 'to', 'PART', 'O'), ('b', 'get', 'VERB', 'O'), ('.', 'pregnant', 'ADJ', 'O')]]\n"
     ]
    }
   ],
   "source": [
    "def ampliar_lemmas(particio,lemmas_postags):\n",
    "    new = []\n",
    "    for i in range(len(particio)):\n",
    "        sent = []\n",
    "        for j in range(len(particio[i])):\n",
    "            tuple = (particio[i][j][0],lemmas_postags[i][j][0],lemmas_postags[i][j][1],particio[i][j][1])\n",
    "            sent.append(tuple)\n",
    "        new.append(sent)\n",
    "    return new\n",
    "\n",
    "train_def = ampliar_lemmas(train, lemmas_postags_train)\n",
    "val_def = ampliar_lemmas(val, lemmas_postags_val)\n",
    "test_def = ampliar_lemmas(test, lemmas_postags_test)\n",
    "\n",
    "# Així queda la forma de l'input final\n",
    "print(train_def[0:3])\n",
    "print(val_def[0:3])\n",
    "print(test_def[0:3])\n"
   ]
  },
  {
   "attachments": {},
   "cell_type": "markdown",
   "metadata": {},
   "source": [
    "#### Creem funció word2features per trobar les features de les paraules"
   ]
  },
  {
   "cell_type": "code",
   "execution_count": 5,
   "metadata": {},
   "outputs": [],
   "source": [
    "def word2features(sent, i): # les features comentades no han estat afegides\n",
    "    word = sent[i][0]\n",
    "    postag = sent[i][1]\n",
    "    lemma = sent[i][2]\n",
    "\n",
    "    features = {\n",
    "        'word': word, \n",
    "        'word.isdigit()': word.isdigit(),\n",
    "        'punctuation': any(p in word for p in punctuation),\n",
    "        'word[-3:]': word[-3:],\n",
    "        'word[-2:]': word[-2:],\n",
    "        'word[-1:]': word[-1:],\n",
    "        'word.isupper()': word.isupper(),\n",
    "        'word.istitle()': word.istitle(),\n",
    "        'postag': postag,\n",
    "        'lemma': lemma,\n",
    "        'root': stemmer_nl.stem(word),\n",
    "        #'length': str(len(word)),\n",
    "        'word[:1]': word[:1],\n",
    "        'word[:2]': word[:2],\n",
    "        'word[:3]': word[:3]\n",
    "    }\n",
    "    # Afegim informació sobre les paraules anterior i posterior en la frase\n",
    "    \n",
    "    if i > 0:\n",
    "        word1 = sent[i-1][0]\n",
    "        features.update({\n",
    "            '-1:word': word1, \n",
    "            '-1:word.isdigit()': word1.isdigit(),\n",
    "            '-1:punctuation': any(p in word1 for p in punctuation),\n",
    "            '-1:word[-3:]': word1[-3:],\n",
    "            '-1:word[-2:]': word1[-2:],\n",
    "            '-1:word[-1:]': word1[-1:],\n",
    "            '-1:word.isupper()': word1.isupper(),\n",
    "            '-1:word.istitle()': word1.istitle()\n",
    "        })\n",
    "    else: # Si és inici de paraula posem (Beggining Of Sentence)\n",
    "        features['BOS'] = True\n",
    "\n",
    "    if i < len(sent)-1:\n",
    "        word1 = sent[i+1][0]\n",
    "        features.update({\n",
    "            '-1:word': word1, \n",
    "            '-1:word.isdigit()': word1.isdigit(),\n",
    "            '-1:punctuation': any(p in word1 for p in punctuation),\n",
    "            '-1:word[-3:]': word1[-3:],\n",
    "            '-1:word[-2:]': word1[-2:],\n",
    "            '-1:word[-1:]': word1[-1:],\n",
    "            '-1:word.isupper()': word1.isupper(),\n",
    "            '-1:word.istitle()': word1.istitle()\n",
    "        })\n",
    "    else: # Si és final de paraula posem (End Of Sentence)\n",
    "        features['EOS'] = True\n",
    "    \n",
    "    return features\n",
    "\n",
    "# Creem les funcions auxiliars sent2features i sent2labels\n",
    "def sent2features(sent):\n",
    "    return [word2features(sent, i) for i in range(len(sent))]\n",
    "\n",
    "def sent2labels(sent):\n",
    "    return [label for token, postag, lemma, label in sent]"
   ]
  },
  {
   "cell_type": "code",
   "execution_count": 6,
   "metadata": {},
   "outputs": [
    {
     "data": {
      "text/plain": [
       "[{'word': 'm',\n",
       "  'word.isdigit()': False,\n",
       "  'punctuation': False,\n",
       "  'word[-3:]': 'm',\n",
       "  'word[-2:]': 'm',\n",
       "  'word[-1:]': 'm',\n",
       "  'word.isupper()': False,\n",
       "  'word.istitle()': False,\n",
       "  'postag': 'm',\n",
       "  'lemma': 'AUX',\n",
       "  'root': 'm',\n",
       "  'word[:1]': 'm',\n",
       "  'word[:2]': 'm',\n",
       "  'word[:3]': 'm',\n",
       "  'BOS': True,\n",
       "  '-1:word': 'taking',\n",
       "  '-1:word.isdigit()': False,\n",
       "  '-1:punctuation': False,\n",
       "  '-1:word[-3:]': 'ing',\n",
       "  '-1:word[-2:]': 'ng',\n",
       "  '-1:word[-1:]': 'g',\n",
       "  '-1:word.isupper()': False,\n",
       "  '-1:word.istitle()': False},\n",
       " {'word': 'taking',\n",
       "  'word.isdigit()': False,\n",
       "  'punctuation': False,\n",
       "  'word[-3:]': 'ing',\n",
       "  'word[-2:]': 'ng',\n",
       "  'word[-1:]': 'g',\n",
       "  'word.isupper()': False,\n",
       "  'word.istitle()': False,\n",
       "  'postag': 'take',\n",
       "  'lemma': 'VERB',\n",
       "  'root': 'take',\n",
       "  'word[:1]': 't',\n",
       "  'word[:2]': 'ta',\n",
       "  'word[:3]': 'tak',\n",
       "  '-1:word': 'm',\n",
       "  '-1:word.isdigit()': False,\n",
       "  '-1:punctuation': False,\n",
       "  '-1:word[-3:]': 'm',\n",
       "  '-1:word[-2:]': 'm',\n",
       "  '-1:word[-1:]': 'm',\n",
       "  '-1:word.isupper()': False,\n",
       "  '-1:word.istitle()': False,\n",
       "  'EOS': True}]"
      ]
     },
     "execution_count": 6,
     "metadata": {},
     "output_type": "execute_result"
    }
   ],
   "source": [
    "sent2features(train_def[0][5:7])"
   ]
  },
  {
   "attachments": {},
   "cell_type": "markdown",
   "metadata": {},
   "source": [
    "#### Preparem Training i datasets de test"
   ]
  },
  {
   "cell_type": "code",
   "execution_count": 7,
   "metadata": {},
   "outputs": [
    {
     "data": {
      "text/plain": [
       "((768,), (768,))"
      ]
     },
     "execution_count": 7,
     "metadata": {},
     "output_type": "execute_result"
    }
   ],
   "source": [
    "# posem les dades en forma que el CRF les pugui interpretar\n",
    "X_train = np.array([sent2features(s) for s in train_def],dtype=object)\n",
    "X_val = np.array([sent2features(s) for s in val_def],dtype=object)\n",
    "X_test = np.array([sent2features(s) for s in test_def],dtype=object)\n",
    "\n",
    "y_train = np.array([sent2labels(s) for s in train_def],dtype=object)\n",
    "y_val = np.array([sent2labels(s) for s in val_def],dtype=object)\n",
    "y_test = np.array([sent2labels(s) for s in test_def],dtype=object)\n",
    "\n",
    "X_train.shape, y_train.shape\n",
    "\n"
   ]
  },
  {
   "attachments": {},
   "cell_type": "markdown",
   "metadata": {},
   "source": [
    "#### Construim CRF amb Sklearn-crfsuite"
   ]
  },
  {
   "cell_type": "code",
   "execution_count": 8,
   "metadata": {},
   "outputs": [],
   "source": [
    "import sklearn_crfsuite\n",
    "\n",
    "crf = sklearn_crfsuite.CRF(algorithm='lbfgs',\n",
    "                           c1=0.1,\n",
    "                           c2=0.1,\n",
    "                           max_iterations=100,\n",
    "                           all_possible_transitions=True,\n",
    "                           verbose=False)\n",
    "\n",
    "try:\n",
    "    crf.fit(X_train, y_train)\n",
    "except AttributeError:\n",
    "    pass\n"
   ]
  },
  {
   "attachments": {},
   "cell_type": "markdown",
   "metadata": {},
   "source": [
    "#### Definim funcions que evaluaran el model"
   ]
  },
  {
   "cell_type": "code",
   "execution_count": 9,
   "metadata": {},
   "outputs": [],
   "source": [
    "from sklearn.metrics import classification_report, f1_score, confusion_matrix\n",
    "\n",
    "def evaluate_model(y_test,X_test):\n",
    "    labels = list(crf.classes_)\n",
    "    print(labels)\n",
    "    y_pred = crf.predict(X_test)\n",
    "    sorted_labels = sorted(labels, key=lambda name: (name[1:], name[0]))\n",
    "    y_pred_list = [item for sublist in y_pred for item in sublist]\n",
    "    y_true_list = [item for sublist in y_test for item in sublist]\n",
    "    report = classification_report(y_true_list, y_pred_list, labels = sorted_labels)\n",
    "    print(report)\n",
    "    print('F1 score macro avg:', f1_score(y_true_list, y_pred_list, average = 'macro'))\n",
    "    #print(accuracy_score(y_true_list, y_pred_list))"
   ]
  },
  {
   "cell_type": "code",
   "execution_count": 31,
   "metadata": {},
   "outputs": [],
   "source": [
    "import seaborn as sns\n",
    "import matplotlib.pyplot as plt\n",
    "\n",
    "def evaluate_model_clases(y_test,X_test):\n",
    "    labels = ['ADR','Di','Dr','F','S','O']   \n",
    "    print(labels)\n",
    "    y_pred = crf.predict(X_test)\n",
    "    sorted_labels = sorted(labels)\n",
    "\n",
    "    y_pred_list = [item for sublist in y_pred for item in sublist]\n",
    "    y_true_list = [item for sublist in y_test for item in sublist]\n",
    "\n",
    "    # Descodifiquem per tal de tenir tot agrupat en les classes necessàries\n",
    "    for i in range(len(y_pred_list)):\n",
    "        if y_pred_list[i][0] in ['W','B','I']:\n",
    "            y_pred_list[i] = y_pred_list[i][2:]\n",
    "            \n",
    "        if y_true_list[i][0] in ['W','B','I']:\n",
    "            y_true_list[i] = y_true_list[i][2:]\n",
    "       \n",
    "    print(y_pred_list[0:30])\n",
    "    print(y_true_list[0:30])\n",
    "\n",
    "    report = classification_report(y_true_list, y_pred_list, labels = sorted_labels)\n",
    "    print(report)\n",
    "    print('F1 score macro avg:', f1_score(y_true_list, y_pred_list, average = 'macro'))\n",
    "    cm = confusion_matrix(y_true_list, y_pred_list, labels = sorted_labels)\n",
    "    ax= plt.subplot()\n",
    "    sns.heatmap(cm, annot=True, fmt='g', ax=ax);  #annot=True to annotate cells, ftm='g' to disable scientific notation\n",
    "\n",
    "    # labels, title and ticks\n",
    "    ax.set_xlabel('Predicted labels');ax.set_ylabel('True labels'); \n",
    "    ax.set_title('Confusion Matrix'); \n",
    "    ax.xaxis.set_ticklabels(sorted_labels); ax.yaxis.set_ticklabels(sorted_labels)"
   ]
  },
  {
   "attachments": {},
   "cell_type": "markdown",
   "metadata": {},
   "source": [
    "#### Evaluació del Model amb Val"
   ]
  },
  {
   "cell_type": "code",
   "execution_count": 11,
   "metadata": {},
   "outputs": [
    {
     "name": "stdout",
     "output_type": "stream",
     "text": [
      "['O', 'B-Dr', 'B-ADR', 'I-ADR', 'B-S', 'I-S', 'B-F', 'I-F', 'B-Di', 'I-Dr', 'I-Di']\n",
      "              precision    recall  f1-score   support\n",
      "\n",
      "           O       0.94      0.97      0.96     25614\n",
      "       B-ADR       0.68      0.64      0.66      1427\n",
      "       I-ADR       0.63      0.59      0.61      2376\n",
      "        B-Di       0.28      0.14      0.19        83\n",
      "        I-Di       0.25      0.09      0.14        53\n",
      "        B-Dr       0.93      0.79      0.85       426\n",
      "        I-Dr       0.48      0.19      0.27        58\n",
      "         B-F       0.30      0.12      0.17       131\n",
      "         I-F       0.21      0.08      0.11       133\n",
      "         B-S       0.22      0.10      0.14        59\n",
      "         I-S       0.08      0.03      0.05        59\n",
      "\n",
      "    accuracy                           0.90     30419\n",
      "   macro avg       0.45      0.34      0.38     30419\n",
      "weighted avg       0.89      0.90      0.90     30419\n",
      "\n",
      "F1 score macro avg: 0.3767909090214798\n"
     ]
    }
   ],
   "source": [
    "y_test, X_test, y_val, X_val = y_val, X_val,y_test, X_test # intercanviem per simple concordança logica amb l'informe\n",
    "evaluate_model(y_val,X_val)\n"
   ]
  },
  {
   "cell_type": "code",
   "execution_count": 32,
   "metadata": {},
   "outputs": [
    {
     "name": "stdout",
     "output_type": "stream",
     "text": [
      "['ADR', 'Di', 'Dr', 'F', 'S', 'O']\n",
      "['ADR', 'ADR', 'O', 'O', 'O', 'O', 'O', 'O', 'O', 'O', 'O', 'O', 'O', 'O', 'O', 'O', 'O', 'ADR', 'O', 'O', 'O', 'O', 'O', 'O', 'O', 'O', 'O', 'O', 'O', 'O']\n",
      "['ADR', 'ADR', 'O', 'O', 'O', 'O', 'O', 'O', 'O', 'O', 'O', 'O', 'O', 'O', 'O', 'O', 'O', 'S', 'O', 'O', 'O', 'O', 'O', 'O', 'Dr', 'O', 'O', 'O', 'O', 'O']\n",
      "              precision    recall  f1-score   support\n",
      "\n",
      "         ADR       0.73      0.68      0.70      3803\n",
      "          Di       0.29      0.13      0.18       136\n",
      "          Dr       0.91      0.73      0.81       484\n",
      "           F       0.27      0.10      0.15       264\n",
      "           O       0.94      0.97      0.96     25614\n",
      "           S       0.16      0.07      0.09       118\n",
      "\n",
      "    accuracy                           0.91     30419\n",
      "   macro avg       0.55      0.45      0.48     30419\n",
      "weighted avg       0.90      0.91      0.91     30419\n",
      "\n",
      "F1 score macro avg: 0.4811204054913585\n"
     ]
    },
    {
     "data": {
      "image/png": "[encoded data removed]",
      "text/plain": [
       "<Figure size 640x480 with 2 Axes>"
      ]
     },
     "metadata": {},
     "output_type": "display_data"
    }
   ],
   "source": [
    "evaluate_model_clases(y_val,X_val)"
   ]
  },
  {
   "attachments": {},
   "cell_type": "markdown",
   "metadata": {},
   "source": [
    "#### Evaluació del Model amb Test"
   ]
  },
  {
   "cell_type": "code",
   "execution_count": 13,
   "metadata": {},
   "outputs": [
    {
     "name": "stdout",
     "output_type": "stream",
     "text": [
      "['O', 'B-Dr', 'B-ADR', 'I-ADR', 'B-S', 'I-S', 'B-F', 'I-F', 'B-Di', 'I-Dr', 'I-Di']\n",
      "              precision    recall  f1-score   support\n",
      "\n",
      "           O       0.94      0.97      0.95     13107\n",
      "       B-ADR       0.72      0.69      0.71       784\n",
      "       I-ADR       0.68      0.58      0.63      1408\n",
      "        B-Di       0.38      0.28      0.32        36\n",
      "        I-Di       0.31      0.17      0.22        24\n",
      "        B-Dr       0.90      0.82      0.86       218\n",
      "        I-Dr       0.44      0.22      0.30        18\n",
      "         B-F       0.25      0.10      0.14        52\n",
      "         I-F       0.25      0.08      0.12        48\n",
      "         B-S       0.21      0.11      0.14        38\n",
      "         I-S       0.05      0.03      0.03        39\n",
      "\n",
      "    accuracy                           0.90     15772\n",
      "   macro avg       0.47      0.37      0.40     15772\n",
      "weighted avg       0.89      0.90      0.90     15772\n",
      "\n",
      "F1 score macro avg: 0.4017211105126881\n"
     ]
    }
   ],
   "source": [
    "evaluate_model(y_test,X_test)\n"
   ]
  },
  {
   "cell_type": "code",
   "execution_count": 14,
   "metadata": {},
   "outputs": [
    {
     "name": "stdout",
     "output_type": "stream",
     "text": [
      "['ADR', 'Di', 'Dr', 'F', 'S', 'O']\n",
      "['ADR', 'ADR', 'ADR', 'ADR', 'ADR', 'O', 'O', 'O', 'O', 'O', 'O', 'ADR', 'ADR', 'ADR', 'O', 'ADR', 'ADR', 'O', 'O', 'O', 'O', 'O', 'O', 'O', 'O', 'O', 'O', 'O', 'O', 'O']\n",
      "['ADR', 'ADR', 'ADR', 'ADR', 'ADR', 'O', 'O', 'O', 'O', 'ADR', 'O', 'ADR', 'ADR', 'ADR', 'O', 'ADR', 'ADR', 'O', 'O', 'O', 'O', 'O', 'O', 'O', 'O', 'O', 'O', 'O', 'O', 'O']\n",
      "              precision    recall  f1-score   support\n",
      "\n",
      "         ADR       0.76      0.67      0.72      2192\n",
      "          Di       0.38      0.25      0.30        60\n",
      "          Dr       0.89      0.79      0.84       236\n",
      "           F       0.28      0.10      0.15       100\n",
      "           O       0.94      0.97      0.95     13107\n",
      "           S       0.13      0.06      0.09        77\n",
      "\n",
      "    accuracy                           0.91     15772\n",
      "   macro avg       0.57      0.48      0.51     15772\n",
      "weighted avg       0.90      0.91      0.91     15772\n",
      "\n",
      "F1 score macro avg: 0.5078508724967471\n"
     ]
    }
   ],
   "source": [
    "evaluate_model_clases(y_test,X_test)\n"
   ]
  },
  {
   "attachments": {},
   "cell_type": "markdown",
   "metadata": {},
   "source": [
    "#### Etiquetem textos reals"
   ]
  },
  {
   "cell_type": "code",
   "execution_count": 15,
   "metadata": {},
   "outputs": [],
   "source": [
    "# Definim funcions que permeten la visualització\n",
    "def visualize_text_with_labels(predicted_labels): # Function to visualize the text\n",
    "    nlp = spacy.blank(\"en\")  # Create a blank English language model\n",
    "    words = [token for sentence in predicted_labels for token, _ in sentence]\n",
    "    spaces = [True] * len(words)  # Assume all tokens are followed by spaces\n",
    "    doc = Doc(nlp.vocab, words=words, spaces=spaces)\n",
    "    ents = []\n",
    "\n",
    "    char_position = 0\n",
    "    for sentence in predicted_labels:\n",
    "        for word, label in sentence:\n",
    "            if label != 'O':\n",
    "                span_start = char_position\n",
    "                span_end = char_position + len(word)\n",
    "                token_start = None\n",
    "                token_end = None\n",
    "\n",
    "                # Find the token indices that correspond to the character positions\n",
    "                for token in doc:\n",
    "                    if token.idx == span_start:\n",
    "                        token_start = token.i\n",
    "                    if token.idx + len(token.text) == span_end:\n",
    "                        token_end = token.i\n",
    "\n",
    "                if token_start is not None and token_end is not None:\n",
    "                    ents.append(Span(doc, start=token_start, end=token_end+1, label=label))\n",
    "\n",
    "            # Increment char_position by the length of the word plus 1 for whitespace\n",
    "            char_position += len(word) + 1\n",
    "\n",
    "    doc.ents = ents\n",
    "\n",
    "    colors = {\"B-ADR\": \"#FFB6C1\",\"I-ADR\": \"#FFB6C1\", \"B-Di\": \"#98FF98\", \"I-Di\": \"#98FF98\", \"B-Dr\": \"#C8A2C8\", \"I-Dr\": \"#C8A2C8\", \"B-F\":\"#FFFFE0\",\"I-F\":\"#FFFFE0\", \"B-S\":\"#FF7F50\",\"I-S\":\"#FF7F50\"}  # Define colors for each label\n",
    "    options = {\"ents\": list(colors.keys()), \"colors\": colors}  # Use colors for specified labels\n",
    "    displacy.render(doc, style=\"ent\", options=options, jupyter=True)\n",
    "\n",
    "def predict_raw_text(text):\n",
    "    text_input = []\n",
    "    nlp = spacy.load(\"en_core_web_sm\")\n",
    "    text_tok_sent = sent_tokenize(text)\n",
    "    for sent in text_tok_sent:\n",
    "        doc = nlp(sent)\n",
    "        sentence = []\n",
    "        words = word_tokenize(sent)\n",
    "        for w in range(len(words)):\n",
    "            sentence.append((words[w],doc[w].tag_, doc[w].lemma_))\n",
    "        text_input.append(sentence)\n",
    "    text_input_final = np.array([sent2features(s) for s in text_input],dtype=object)\n",
    "    prediction = crf.predict(text_input_final)\n",
    "    output = []\n",
    "    for i in range(len(text_input)):\n",
    "        sentence = []\n",
    "        for j in range(len(text_input[i])):\n",
    "            tuple = (text_input[i][j][0], prediction[i][j])\n",
    "            sentence.append(tuple)\n",
    "        output.append(sentence)\n",
    "    visualize_text_with_labels( output)"
   ]
  },
  {
   "cell_type": "code",
   "execution_count": 16,
   "metadata": {},
   "outputs": [
    {
     "data": {
      "text/html": [
       "<span class=\"tex2jax_ignore\"><div class=\"entities\" style=\"line-height: 2.5; direction: ltr\">\n",
       "<mark class=\"entity\" style=\"background: #FFB6C1; padding: 0.45em 0.6em; margin: 0 0.25em; line-height: 1; border-radius: 0.35em;\">\n",
       "    Sarah\n",
       "    <span style=\"font-size: 0.8em; font-weight: bold; line-height: 1; border-radius: 0.35em; vertical-align: middle; margin-left: 0.5rem\">B-ADR</span>\n",
       "</mark>\n",
       " \n",
       "<mark class=\"entity\" style=\"background: #FFB6C1; padding: 0.45em 0.6em; margin: 0 0.25em; line-height: 1; border-radius: 0.35em;\">\n",
       "    experienced\n",
       "    <span style=\"font-size: 0.8em; font-weight: bold; line-height: 1; border-radius: 0.35em; vertical-align: middle; margin-left: 0.5rem\">I-ADR</span>\n",
       "</mark>\n",
       " \n",
       "<mark class=\"entity\" style=\"background: #FFB6C1; padding: 0.45em 0.6em; margin: 0 0.25em; line-height: 1; border-radius: 0.35em;\">\n",
       "    acute\n",
       "    <span style=\"font-size: 0.8em; font-weight: bold; line-height: 1; border-radius: 0.35em; vertical-align: middle; margin-left: 0.5rem\">I-ADR</span>\n",
       "</mark>\n",
       " \n",
       "<mark class=\"entity\" style=\"background: #FFB6C1; padding: 0.45em 0.6em; margin: 0 0.25em; line-height: 1; border-radius: 0.35em;\">\n",
       "    stomach\n",
       "    <span style=\"font-size: 0.8em; font-weight: bold; line-height: 1; border-radius: 0.35em; vertical-align: middle; margin-left: 0.5rem\">I-ADR</span>\n",
       "</mark>\n",
       " \n",
       "<mark class=\"entity\" style=\"background: #FFB6C1; padding: 0.45em 0.6em; margin: 0 0.25em; line-height: 1; border-radius: 0.35em;\">\n",
       "    pain\n",
       "    <span style=\"font-size: 0.8em; font-weight: bold; line-height: 1; border-radius: 0.35em; vertical-align: middle; margin-left: 0.5rem\">I-ADR</span>\n",
       "</mark>\n",
       " after taking \n",
       "<mark class=\"entity\" style=\"background: #C8A2C8; padding: 0.45em 0.6em; margin: 0 0.25em; line-height: 1; border-radius: 0.35em;\">\n",
       "    Diclofenac\n",
       "    <span style=\"font-size: 0.8em; font-weight: bold; line-height: 1; border-radius: 0.35em; vertical-align: middle; margin-left: 0.5rem\">B-Dr</span>\n",
       "</mark>\n",
       " for her \n",
       "<mark class=\"entity\" style=\"background: #98FF98; padding: 0.45em 0.6em; margin: 0 0.25em; line-height: 1; border-radius: 0.35em;\">\n",
       "    chronic\n",
       "    <span style=\"font-size: 0.8em; font-weight: bold; line-height: 1; border-radius: 0.35em; vertical-align: middle; margin-left: 0.5rem\">B-Di</span>\n",
       "</mark>\n",
       " \n",
       "<mark class=\"entity\" style=\"background: #98FF98; padding: 0.45em 0.6em; margin: 0 0.25em; line-height: 1; border-radius: 0.35em;\">\n",
       "    arthritis\n",
       "    <span style=\"font-size: 0.8em; font-weight: bold; line-height: 1; border-radius: 0.35em; vertical-align: middle; margin-left: 0.5rem\">I-Di</span>\n",
       "</mark>\n",
       " , which was the reason for taking the drug . The \n",
       "<mark class=\"entity\" style=\"background: #FF7F50; padding: 0.45em 0.6em; margin: 0 0.25em; line-height: 1; border-radius: 0.35em;\">\n",
       "    pain\n",
       "    <span style=\"font-size: 0.8em; font-weight: bold; line-height: 1; border-radius: 0.35em; vertical-align: middle; margin-left: 0.5rem\">B-S</span>\n",
       "</mark>\n",
       " was a clear adverse drug reaction . Additionally , she had been having \n",
       "<mark class=\"entity\" style=\"background: #FFB6C1; padding: 0.45em 0.6em; margin: 0 0.25em; line-height: 1; border-radius: 0.35em;\">\n",
       "    trouble\n",
       "    <span style=\"font-size: 0.8em; font-weight: bold; line-height: 1; border-radius: 0.35em; vertical-align: middle; margin-left: 0.5rem\">B-ADR</span>\n",
       "</mark>\n",
       " \n",
       "<mark class=\"entity\" style=\"background: #FFB6C1; padding: 0.45em 0.6em; margin: 0 0.25em; line-height: 1; border-radius: 0.35em;\">\n",
       "    sleeping\n",
       "    <span style=\"font-size: 0.8em; font-weight: bold; line-height: 1; border-radius: 0.35em; vertical-align: middle; margin-left: 0.5rem\">I-ADR</span>\n",
       "</mark>\n",
       " and \n",
       "<mark class=\"entity\" style=\"background: #FFB6C1; padding: 0.45em 0.6em; margin: 0 0.25em; line-height: 1; border-radius: 0.35em;\">\n",
       "    frequently\n",
       "    <span style=\"font-size: 0.8em; font-weight: bold; line-height: 1; border-radius: 0.35em; vertical-align: middle; margin-left: 0.5rem\">B-ADR</span>\n",
       "</mark>\n",
       " \n",
       "<mark class=\"entity\" style=\"background: #FFB6C1; padding: 0.45em 0.6em; margin: 0 0.25em; line-height: 1; border-radius: 0.35em;\">\n",
       "    felt\n",
       "    <span style=\"font-size: 0.8em; font-weight: bold; line-height: 1; border-radius: 0.35em; vertical-align: middle; margin-left: 0.5rem\">I-ADR</span>\n",
       "</mark>\n",
       " \n",
       "<mark class=\"entity\" style=\"background: #FFB6C1; padding: 0.45em 0.6em; margin: 0 0.25em; line-height: 1; border-radius: 0.35em;\">\n",
       "    fatigued\n",
       "    <span style=\"font-size: 0.8em; font-weight: bold; line-height: 1; border-radius: 0.35em; vertical-align: middle; margin-left: 0.5rem\">I-ADR</span>\n",
       "</mark>\n",
       " , which were symptoms of her underlying disease . During her medical examination , the doctor noticed \n",
       "<mark class=\"entity\" style=\"background: #FFB6C1; padding: 0.45em 0.6em; margin: 0 0.25em; line-height: 1; border-radius: 0.35em;\">\n",
       "    swelling\n",
       "    <span style=\"font-size: 0.8em; font-weight: bold; line-height: 1; border-radius: 0.35em; vertical-align: middle; margin-left: 0.5rem\">B-ADR</span>\n",
       "</mark>\n",
       " \n",
       "<mark class=\"entity\" style=\"background: #FFB6C1; padding: 0.45em 0.6em; margin: 0 0.25em; line-height: 1; border-radius: 0.35em;\">\n",
       "    in\n",
       "    <span style=\"font-size: 0.8em; font-weight: bold; line-height: 1; border-radius: 0.35em; vertical-align: middle; margin-left: 0.5rem\">I-ADR</span>\n",
       "</mark>\n",
       " \n",
       "<mark class=\"entity\" style=\"background: #FFB6C1; padding: 0.45em 0.6em; margin: 0 0.25em; line-height: 1; border-radius: 0.35em;\">\n",
       "    her\n",
       "    <span style=\"font-size: 0.8em; font-weight: bold; line-height: 1; border-radius: 0.35em; vertical-align: middle; margin-left: 0.5rem\">I-ADR</span>\n",
       "</mark>\n",
       " \n",
       "<mark class=\"entity\" style=\"background: #FFB6C1; padding: 0.45em 0.6em; margin: 0 0.25em; line-height: 1; border-radius: 0.35em;\">\n",
       "    joints\n",
       "    <span style=\"font-size: 0.8em; font-weight: bold; line-height: 1; border-radius: 0.35em; vertical-align: middle; margin-left: 0.5rem\">I-ADR</span>\n",
       "</mark>\n",
       " , a finding that required further investigation . Moreover , Sarah 's blood tests revealed \n",
       "<mark class=\"entity\" style=\"background: #FFFFE0; padding: 0.45em 0.6em; margin: 0 0.25em; line-height: 1; border-radius: 0.35em;\">\n",
       "    elevated\n",
       "    <span style=\"font-size: 0.8em; font-weight: bold; line-height: 1; border-radius: 0.35em; vertical-align: middle; margin-left: 0.5rem\">B-F</span>\n",
       "</mark>\n",
       " \n",
       "<mark class=\"entity\" style=\"background: #FFFFE0; padding: 0.45em 0.6em; margin: 0 0.25em; line-height: 1; border-radius: 0.35em;\">\n",
       "    levels\n",
       "    <span style=\"font-size: 0.8em; font-weight: bold; line-height: 1; border-radius: 0.35em; vertical-align: middle; margin-left: 0.5rem\">I-F</span>\n",
       "</mark>\n",
       " \n",
       "<mark class=\"entity\" style=\"background: #FFFFE0; padding: 0.45em 0.6em; margin: 0 0.25em; line-height: 1; border-radius: 0.35em;\">\n",
       "    of\n",
       "    <span style=\"font-size: 0.8em; font-weight: bold; line-height: 1; border-radius: 0.35em; vertical-align: middle; margin-left: 0.5rem\">I-F</span>\n",
       "</mark>\n",
       " \n",
       "<mark class=\"entity\" style=\"background: #FFFFE0; padding: 0.45em 0.6em; margin: 0 0.25em; line-height: 1; border-radius: 0.35em;\">\n",
       "    liver\n",
       "    <span style=\"font-size: 0.8em; font-weight: bold; line-height: 1; border-radius: 0.35em; vertical-align: middle; margin-left: 0.5rem\">I-F</span>\n",
       "</mark>\n",
       " \n",
       "<mark class=\"entity\" style=\"background: #FFFFE0; padding: 0.45em 0.6em; margin: 0 0.25em; line-height: 1; border-radius: 0.35em;\">\n",
       "    enzymes\n",
       "    <span style=\"font-size: 0.8em; font-weight: bold; line-height: 1; border-radius: 0.35em; vertical-align: middle; margin-left: 0.5rem\">I-F</span>\n",
       "</mark>\n",
       " , indicating a \n",
       "<mark class=\"entity\" style=\"background: #98FF98; padding: 0.45em 0.6em; margin: 0 0.25em; line-height: 1; border-radius: 0.35em;\">\n",
       "    potential\n",
       "    <span style=\"font-size: 0.8em; font-weight: bold; line-height: 1; border-radius: 0.35em; vertical-align: middle; margin-left: 0.5rem\">B-Di</span>\n",
       "</mark>\n",
       " \n",
       "<mark class=\"entity\" style=\"background: #98FF98; padding: 0.45em 0.6em; margin: 0 0.25em; line-height: 1; border-radius: 0.35em;\">\n",
       "    liver\n",
       "    <span style=\"font-size: 0.8em; font-weight: bold; line-height: 1; border-radius: 0.35em; vertical-align: middle; margin-left: 0.5rem\">I-Di</span>\n",
       "</mark>\n",
       " \n",
       "<mark class=\"entity\" style=\"background: #98FF98; padding: 0.45em 0.6em; margin: 0 0.25em; line-height: 1; border-radius: 0.35em;\">\n",
       "    dysfunction\n",
       "    <span style=\"font-size: 0.8em; font-weight: bold; line-height: 1; border-radius: 0.35em; vertical-align: middle; margin-left: 0.5rem\">I-Di</span>\n",
       "</mark>\n",
       " , which was an unexpected finding . </div></span>"
      ],
      "text/plain": [
       "<IPython.core.display.HTML object>"
      ]
     },
     "metadata": {},
     "output_type": "display_data"
    }
   ],
   "source": [
    "text = \"\"\"\n",
    "\n",
    "Sarah experienced acute stomach pain after taking Diclofenac for her chronic arthritis, which was the reason for taking the drug. The pain was a clear adverse drug reaction. Additionally, she had been having trouble sleeping and frequently felt fatigued, which were symptoms of her underlying disease. During her medical examination, the doctor noticed swelling in her joints, a finding that required further investigation. Moreover, Sarah's blood tests revealed elevated levels of liver enzymes, indicating a potential liver dysfunction, which was an unexpected finding.\n",
    "\"\"\"\n",
    "predict_raw_text(text)"
   ]
  }
 ],
 "metadata": {
  "kernelspec": {
   "display_name": "Python 3",
   "language": "python",
   "name": "python3"
  },
  "language_info": {
   "codemirror_mode": {
    "name": "ipython",
    "version": 3
   },
   "file_extension": ".py",
   "mimetype": "text/x-python",
   "name": "python",
   "nbconvert_exporter": "python",
   "pygments_lexer": "ipython3",
   "version": "3.10.11"
  },
  "orig_nbformat": 4
 },
 "nbformat": 4,
 "nbformat_minor": 2
}
